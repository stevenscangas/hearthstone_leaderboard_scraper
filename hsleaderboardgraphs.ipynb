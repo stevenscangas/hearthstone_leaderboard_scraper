{
 "cells": [
  {
   "cell_type": "code",
   "execution_count": null,
   "metadata": {},
   "outputs": [],
   "source": []
  }
 ],
 "metadata": {
  "kernelspec": {
   "display_name": "Python 3.8.13 ('base')",
   "language": "python",
   "name": "python3"
  },
  "language_info": {
   "name": "python",
   "version": "3.8.13"
  },
  "orig_nbformat": 4,
  "vscode": {
   "interpreter": {
    "hash": "167e22fe6180e7ea03b9e59942a70a0f08713eb3b2bf4a1eb2cf7c4e592dd4c9"
   }
  }
 },
 "nbformat": 4,
 "nbformat_minor": 2
}
