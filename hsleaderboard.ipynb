{
 "cells": [
  {
   "cell_type": "code",
   "execution_count": 53,
   "metadata": {},
   "outputs": [],
   "source": [
    "from bs4 import BeautifulSoup\n",
    "import requests\n",
    "import json\n",
    "import pandas as pd\n",
    "\n",
    "import nest_asyncio\n",
    "nest_asyncio.apply()"
   ]
  },
  {
   "cell_type": "code",
   "execution_count": 54,
   "metadata": {},
   "outputs": [],
   "source": [
    "import aiohttp\n",
    "import asyncio\n",
    "import time\n",
    "\n",
    "start_time = time.time()\n",
    "\n",
    "curr_season = 121\n",
    "hs_mode = 'wild'\n",
    "\n",
    "\n",
    "async def get_page_players(session, url):\n",
    "    async with session.get(url) as resp:\n",
    "        pagejson = await resp.json()\n",
    "        rows = pagejson['leaderboard']['rows']\n",
    "        return rows\n",
    "\n",
    "\n",
    "async def getCurrentLeaderboardAsync():\n",
    "\n",
    "\n",
    "    url = f'https://hearthstone.blizzard.com/en-us/api/community/leaderboardsData?region=US&leaderboardId={hs_mode}&page=1&seasonId={curr_season}'\n",
    "    html = requests.get(url)\n",
    "    text = html.text\n",
    "    son = json.loads(text)\n",
    "    totalPages = son['leaderboard']['pagination']['totalPages']\n",
    "\n",
    "    async with aiohttp.ClientSession() as session:\n",
    "        df = pd.DataFrame()\n",
    "        tasks = []\n",
    "        for page in range(1, totalPages+1):\n",
    "            url = f'https://hearthstone.blizzard.com/en-us/api/community/leaderboardsData?region=US&leaderboardId={hs_mode}&page={page}&seasonId={curr_season}'\n",
    "            tasks.append(asyncio.ensure_future(get_page_players(session, url)))\n",
    "\n",
    "        allPages = []\n",
    "\n",
    "        jsonObjects = await asyncio.gather(*tasks)\n",
    "        for jsonFile in jsonObjects:\n",
    "            allPages.append(jsonFile)\n",
    "\n",
    "            rankList = []\n",
    "            nameList = []\n",
    "\n",
    "            # iterate for every page\n",
    "            for page in allPages:\n",
    "\n",
    "                for player in page:\n",
    "\n",
    "                    name = player['accountid']\n",
    "                    rank = player['rank']\n",
    "                    rankList.append(rank)\n",
    "                    nameList.append(name)\n",
    "    df['rank'] = rankList\n",
    "    df['name'] = nameList\n",
    "    df = df.set_index('rank')\n",
    "    return df\n",
    "        "
   ]
  },
  {
   "cell_type": "code",
   "execution_count": 66,
   "metadata": {},
   "outputs": [],
   "source": [
    "def findRank(playerName, df):\n",
    "    try: return int(df.loc[df['name'] == playerName].index[0])\n",
    "    except: \n",
    "        print(f'Player {playerName} not found in Legend rank, make sure you spelled name correctly')\n",
    "        return False\n",
    "\n",
    "def hasStarBonus(playerName, df):\n",
    "    \n",
    "    star11 = findRank(playerName,df) < (df.shape[0] / 10) \n",
    "    return str(star11)\n",
    "\n"
   ]
  },
  {
   "cell_type": "code",
   "execution_count": 56,
   "metadata": {},
   "outputs": [],
   "source": [
    "# run this to import csv \n",
    "\n",
    "def importCSVLeaderboard(fileName):\n",
    "\n",
    "    df_imported = pd.read_csv(fileName)\n",
    "    df_imported = df_imported.set_index('rank')\n",
    "    df_imported.head(10)\n",
    "    return df_imported"
   ]
  },
  {
   "cell_type": "code",
   "execution_count": 64,
   "metadata": {},
   "outputs": [],
   "source": [
    "def playerStats(df,name):\n",
    "\n",
    "    # If they are legend and therefore ARE in the Database\n",
    "    if findRank(name,df):\n",
    "\n",
    "        print('Total Players Legend: ' + str(len(df.index)))\n",
    "        print(f'Rank of {name}: ' + str(findRank(name,df)))\n",
    "        print(f'Does {name} have a Star Bonus?: ' + str(hasStarBonus(name,df)))\n",
    "\n",
    "    else:\n",
    "        #print(f'Player {name} not found in Wild Legend.')\n",
    "        pass"
   ]
  },
  {
   "cell_type": "code",
   "execution_count": 58,
   "metadata": {},
   "outputs": [],
   "source": [
    "# see how many duplicate names in the dataframe\n",
    "def findDuplicateNames(df):\n",
    "\n",
    "    namesList = []\n",
    "    duplicateNames = []\n",
    "    legendNames = list(df['name'])\n",
    "    for name in legendNames:\n",
    "        if name in namesList:\n",
    "            duplicateNames.append(name)\n",
    "        \n",
    "        namesList.append(name)\n",
    "\n",
    "    return duplicateNames\n",
    "\n",
    "\n",
    "def renameDuplicates(df):\n",
    "\n",
    "    namesList = []\n",
    "    legendNames = list(df['name'])\n",
    "    for name in legendNames:\n",
    "        if name in namesList:\n",
    "            name = name + '*'\n",
    "        \n",
    "        namesList.append(name)\n",
    "\n",
    "    df['name'] = namesList\n",
    "\n",
    "    if len(findDuplicateNames(df)) != 0:\n",
    "        return renameDuplicates(df)\n",
    "    else: return df\n"
   ]
  },
  {
   "cell_type": "code",
   "execution_count": 59,
   "metadata": {},
   "outputs": [],
   "source": [
    "from datetime import datetime\n",
    "def timeStamp():\n",
    "    # datetime object containing current date and time\n",
    "    now = datetime.now()\n",
    "    dt_string = now.strftime(\"%d.%m.%Y.%H.%M.%S\")\n",
    "    return dt_string"
   ]
  },
  {
   "cell_type": "code",
   "execution_count": 60,
   "metadata": {},
   "outputs": [],
   "source": [
    "def storeCurrentLeaderboard():\n",
    "\n",
    "    try:\n",
    "\n",
    "        df = asyncio.run(getCurrentLeaderboardAsync())\n",
    "        df = renameDuplicates(df)\n",
    "        df.to_csv('WildLeaderboard.' + timeStamp())\n",
    "\n",
    "    except:\n",
    "        print('Error: Couldnt Store Leaderboard')\n",
    "        return\n",
    "\n",
    "    return df\n",
    "\n"
   ]
  },
  {
   "cell_type": "code",
   "execution_count": 61,
   "metadata": {},
   "outputs": [
    {
     "data": {
      "text/html": [
       "<div>\n",
       "<style scoped>\n",
       "    .dataframe tbody tr th:only-of-type {\n",
       "        vertical-align: middle;\n",
       "    }\n",
       "\n",
       "    .dataframe tbody tr th {\n",
       "        vertical-align: top;\n",
       "    }\n",
       "\n",
       "    .dataframe thead th {\n",
       "        text-align: right;\n",
       "    }\n",
       "</style>\n",
       "<table border=\"1\" class=\"dataframe\">\n",
       "  <thead>\n",
       "    <tr style=\"text-align: right;\">\n",
       "      <th></th>\n",
       "      <th>name</th>\n",
       "    </tr>\n",
       "    <tr>\n",
       "      <th>rank</th>\n",
       "      <th></th>\n",
       "    </tr>\n",
       "  </thead>\n",
       "  <tbody>\n",
       "    <tr>\n",
       "      <th>1</th>\n",
       "      <td>ShuBIAO</td>\n",
       "    </tr>\n",
       "    <tr>\n",
       "      <th>2</th>\n",
       "      <td>JudusRising</td>\n",
       "    </tr>\n",
       "    <tr>\n",
       "      <th>3</th>\n",
       "      <td>BaoXUeSB</td>\n",
       "    </tr>\n",
       "    <tr>\n",
       "      <th>4</th>\n",
       "      <td>vdae</td>\n",
       "    </tr>\n",
       "    <tr>\n",
       "      <th>5</th>\n",
       "      <td>Saratoga0v0</td>\n",
       "    </tr>\n",
       "  </tbody>\n",
       "</table>\n",
       "</div>"
      ],
      "text/plain": [
       "             name\n",
       "rank             \n",
       "1         ShuBIAO\n",
       "2     JudusRising\n",
       "3        BaoXUeSB\n",
       "4            vdae\n",
       "5     Saratoga0v0"
      ]
     },
     "execution_count": 61,
     "metadata": {},
     "output_type": "execute_result"
    }
   ],
   "source": [
    "recently_stored = storeCurrentLeaderboard()\n",
    "recently_stored.head()\n"
   ]
  },
  {
   "cell_type": "code",
   "execution_count": 67,
   "metadata": {},
   "outputs": [
    {
     "name": "stdout",
     "output_type": "stream",
     "text": [
      "Player Abstraction not found in Legend rank, make sure you spelled name correctly\n",
      "Player Nimrod20 not found in Legend rank, make sure you spelled name correctly\n"
     ]
    }
   ],
   "source": [
    "#importCSVLeaderboard('WildLeaderboard.29.11.2022.11.30.38')\n",
    "playerStats(recently_stored,'Abstraction')\n",
    "playerStats(recently_stored,'Nimrod20')"
   ]
  },
  {
   "cell_type": "code",
   "execution_count": 63,
   "metadata": {},
   "outputs": [],
   "source": [
    "# from apscheduler.schedulers.blocking import BlockingScheduler\n",
    "\n",
    "# # store the current leaderboard once every 30 minutes while this is running\n",
    "# scheduler = BlockingScheduler()\n",
    "# scheduler.add_job(storeCurrentLeaderboard, 'interval', minutes=20)\n",
    "# scheduler.start()"
   ]
  }
 ],
 "metadata": {
  "kernelspec": {
   "display_name": "Python 3.8.13 ('base')",
   "language": "python",
   "name": "python3"
  },
  "language_info": {
   "codemirror_mode": {
    "name": "ipython",
    "version": 3
   },
   "file_extension": ".py",
   "mimetype": "text/x-python",
   "name": "python",
   "nbconvert_exporter": "python",
   "pygments_lexer": "ipython3",
   "version": "3.8.13"
  },
  "orig_nbformat": 4,
  "vscode": {
   "interpreter": {
    "hash": "167e22fe6180e7ea03b9e59942a70a0f08713eb3b2bf4a1eb2cf7c4e592dd4c9"
   }
  }
 },
 "nbformat": 4,
 "nbformat_minor": 2
}
